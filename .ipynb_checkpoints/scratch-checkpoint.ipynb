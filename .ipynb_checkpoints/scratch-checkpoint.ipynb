{
 "cells": [
  {
   "cell_type": "code",
   "execution_count": 545,
   "id": "e4060d2f-045d-462d-a4ad-b412b5f2bbbb",
   "metadata": {},
   "outputs": [],
   "source": [
    "using Combinatorics\n",
    "using StatsBase\n",
    "using PyPlot"
   ]
  },
  {
   "cell_type": "code",
   "execution_count": 546,
   "id": "ae1d1e85-0d59-431b-af34-87f6383b1485",
   "metadata": {},
   "outputs": [],
   "source": [
    "# list of words that can potentially be solutions\n",
    "s = open(\"solutions.txt\") do file\n",
    "    read(file, String)\n",
    "end\n",
    "s = replace(s, '\\\"' => \"\")\n",
    "solutions = split(s, \", \")\n",
    "\n",
    "# list of words that are valid guesses, but will never be solutions\n",
    "s = open(\"nonsolutions.txt\") do file\n",
    "    read(file, String)\n",
    "end\n",
    "s = replace(s, '\\\"' => \"\")\n",
    "nonsolutions = split(s, \", \")\n",
    "\n",
    "# all possible valid guesses\n",
    "largelist = [nonsolutions; solutions]\n",
    ";"
   ]
  },
  {
   "cell_type": "code",
   "execution_count": 547,
   "id": "4817996b-59b7-431d-a9bb-bb28bc567f05",
   "metadata": {},
   "outputs": [],
   "source": [
    "function measure_word( word1, word2 )\n",
    "    s = []\n",
    "    for i = 1:5\n",
    "        if word1[i] == word2[i]\n",
    "            push!(s,'2')\n",
    "        elseif word1[i] in word2\n",
    "            push!(s,'1')\n",
    "        else\n",
    "            push!(s,'0')\n",
    "        end\n",
    "    end\n",
    "    return join(s)\n",
    "end;"
   ]
  },
  {
   "cell_type": "code",
   "execution_count": 549,
   "id": "0698f89a-8bda-48c8-a31b-d4453bb3af58",
   "metadata": {},
   "outputs": [],
   "source": [
    "function argmin_set( S )\n",
    "    (s,ix) = findmin(S)\n",
    "    return findall( ==(s), S )\n",
    "end;"
   ]
  },
  {
   "cell_type": "code",
   "execution_count": 477,
   "id": "1814dac7-69ab-4c43-a553-e6dffce37cd7",
   "metadata": {},
   "outputs": [
    {
     "name": "stdout",
     "output_type": "stream",
     "text": [
      " 98.599917 seconds (352.94 M allocations: 14.989 GiB, 51.44% gc time)\n"
     ]
    }
   ],
   "source": [
    "# cache measurements for all possible pairs of words\n",
    "@time begin\n",
    "    wordscores = Dict()\n",
    "    for w1 in largelist\n",
    "        for w2 in solutions\n",
    "            wordscores[w1*w2] = measure_word(w1,w2)\n",
    "        end\n",
    "    end\n",
    "end;"
   ]
  },
  {
   "cell_type": "code",
   "execution_count": 550,
   "id": "198e6e12-e847-4189-96c4-9a666b1ec8ff",
   "metadata": {},
   "outputs": [],
   "source": [
    "# iterate through result dictionary, return maximum length (we want this to be small!)\n",
    "function get_maxsize(obj)\n",
    "    return findmax(length, obj)[1]  # findmax returns (val,key); we want the val\n",
    "end\n",
    "\n",
    "# iterate through result dictionary, return entropy of distribution of lengths (we want this to be large!)\n",
    "function get_entropy(obj)\n",
    "    v = [length(val) for (key,val) in obj]\n",
    "    return entropy(v/sum(v))\n",
    "end;"
   ]
  },
  {
   "cell_type": "code",
   "execution_count": 551,
   "id": "9280448a-498e-42ff-b60f-572a379028ec",
   "metadata": {},
   "outputs": [],
   "source": [
    "# for a given word and candidate word pool, return map of meas => {candidate words}\n",
    "function get_groups( word, solution_pool )\n",
    "    out = Dict()\n",
    "    for wc in solution_pool\n",
    "        s = wordscores[word*wc]\n",
    "        if haskey(out,s)\n",
    "            push!(out[s], wc)\n",
    "        else\n",
    "            out[s] = [wc]\n",
    "        end\n",
    "    end\n",
    "    return out\n",
    "end;"
   ]
  },
  {
   "cell_type": "code",
   "execution_count": 552,
   "id": "e22c004a-6bc1-40e2-a8bc-2f24ac2c796c",
   "metadata": {},
   "outputs": [],
   "source": [
    "# find next move given a pool of available words\n",
    "function find_move( candidate_pool, solution_pool )\n",
    "    # loop over candidates, calculate size and entropy for each\n",
    "    sizelist = []\n",
    "    entrlist = []\n",
    "    for w in candidate_pool\n",
    "        grps = get_groups(w, solution_pool)\n",
    "        push!(sizelist, get_maxsize(grps))\n",
    "        push!(entrlist, get_entropy(grps))\n",
    "    end\n",
    "    \n",
    "    # extract indices of smallest sizes\n",
    "    ixs = argmin_set( sizelist )\n",
    "    \n",
    "    # see if any are in the pool. If so, prefer those!\n",
    "    ixs_belong = [ ix for ix in ixs if candidate_pool[ix] in solution_pool ]\n",
    "    if !isempty(ixs_belong)\n",
    "        ixs = ixs_belong\n",
    "    end\n",
    "    \n",
    "    # among all remaining candidates, pick one with highest entropy\n",
    "    ix_best = sort( ixs, by= ix->entrlist[ix], rev=true )[1]\n",
    "    return candidate_pool[ix_best]\n",
    "end;"
   ]
  },
  {
   "cell_type": "code",
   "execution_count": 553,
   "id": "b582e316-198a-4702-8158-e9b7dc8860a0",
   "metadata": {},
   "outputs": [
    {
     "data": {
      "text/plain": [
       "\"raise\""
      ]
     },
     "execution_count": 553,
     "metadata": {},
     "output_type": "execute_result"
    }
   ],
   "source": [
    "# find the best first move according to our heuristic\n",
    "@time begin\n",
    "    find_move( largelist, solutions )\n",
    "end"
   ]
  },
  {
   "cell_type": "code",
   "execution_count": 490,
   "id": "4dfb0db8-2b96-4850-9069-da57cd981042",
   "metadata": {},
   "outputs": [],
   "source": [
    "# apply strategy when wsol is the true word (wsol should be a member of both candidate_pool and solution_pool)\n",
    "# candidate pool must contain \"raise\" (chosen first word)\n",
    "# returns number of moves required\n",
    "function apply_strategy( wsol, candidate_pool, solution_pool )\n",
    "    w1 = \"raise\"\n",
    "    m1 = wordscores[w1*wsol]  # measurement observed\n",
    "    if m1 == \"22222\"\n",
    "        return 1\n",
    "    end\n",
    "    poolx = [ w for w in solution_pool if wordscores[w1*w] == m1 ] # candidates remaining\n",
    "    \n",
    "    for j = 2:8\n",
    "        wx = find_move(candidate_pool, poolx)\n",
    "        mx = wordscores[wx*wsol]\n",
    "        if mx == \"22222\"\n",
    "            return j\n",
    "        end\n",
    "        poolx = [w for w in poolx if wordscores[wx*w] == mx ]\n",
    "    end\n",
    "    \n",
    "    return 100\n",
    "end;"
   ]
  },
  {
   "cell_type": "code",
   "execution_count": 491,
   "id": "d2b0d588-ab77-4100-b5f5-eb573faa0f9c",
   "metadata": {},
   "outputs": [
    {
     "name": "stdout",
     "output_type": "stream",
     "text": [
      "2421.388852 seconds (5.76 G allocations: 342.846 GiB, 38.36% gc time, 0.01% compilation time)\n"
     ]
    }
   ],
   "source": [
    "@time begin\n",
    "    turns2 = [apply_strategy( w, largelist, solutions ) for w in solutions]\n",
    "end;"
   ]
  },
  {
   "cell_type": "code",
   "execution_count": 486,
   "id": "373bc571-8a31-4f17-b054-f4115a339170",
   "metadata": {},
   "outputs": [
    {
     "data": {
      "image/png": "[encoded data removed]",
      "text/plain": [
       "Figure(PyObject <Figure size 640x480 with 1 Axes>)"
      ]
     },
     "metadata": {},
     "output_type": "display_data"
    }
   ],
   "source": [
    "m = hist(turns, bins=1:6, density=true, align=\"left\", zorder=3);\n",
    "xlabel(\"number of guesses required\")\n",
    "ylabel(\"frequency\")\n",
    "title(\"only guess from solutions list\")\n",
    "for i = 1:5\n",
    "    PyPlot.text(i,0.15,Int(m[1][i]*length(solutions)),horizontalalignment=\"center\")\n",
    "end\n",
    "PyPlot.grid(zorder=0)\n",
    "PyPlot.savefig(\"strat_using_solutions_only.png\")"
   ]
  },
  {
   "cell_type": "code",
   "execution_count": 493,
   "id": "eaafc944-e9f8-4a6d-8db2-85f000eefea5",
   "metadata": {},
   "outputs": [
    {
     "data": {
      "image/png": "[encoded data removed]",
      "text/plain": [
       "Figure(PyObject <Figure size 640x480 with 1 Axes>)"
      ]
     },
     "metadata": {},
     "output_type": "display_data"
    }
   ],
   "source": [
    "m2 = hist(turns2, bins=1:6, density=true, align=\"left\", zorder=3);\n",
    "xlabel(\"number of guesses required\")\n",
    "ylabel(\"frequency\")\n",
    "title(\"any guess allowed\")\n",
    "for i = 1:5\n",
    "    PyPlot.text(i,0.15,Int(m2[1][i]*length(solutions)),horizontalalignment=\"center\")\n",
    "end\n",
    "PyPlot.grid(zorder=0)\n",
    "PyPlot.savefig(\"strat_using_any_guess.png\")"
   ]
  },
  {
   "cell_type": "code",
   "execution_count": 423,
   "id": "a65164fb-94a0-4357-9815-de233ae40953",
   "metadata": {},
   "outputs": [
    {
     "data": {
      "text/plain": [
       "5×2 Matrix{Float64}:\n",
       " 1.0  0.000431965\n",
       " 2.0  0.0311015\n",
       " 3.0  0.434557\n",
       " 4.0  0.485961\n",
       " 5.0  0.0479482"
      ]
     },
     "execution_count": 423,
     "metadata": {},
     "output_type": "execute_result"
    }
   ],
   "source": [
    "[1:5 m[1]]"
   ]
  },
  {
   "cell_type": "code",
   "execution_count": 494,
   "id": "e908af72-3077-49b2-9ed9-c10937c4bcec",
   "metadata": {},
   "outputs": [
    {
     "data": {
      "text/plain": [
       "5×2 Matrix{Float64}:\n",
       " 1.0  0.000431965\n",
       " 2.0  0.0280778\n",
       " 3.0  0.451404\n",
       " 4.0  0.488121\n",
       " 5.0  0.0319654"
      ]
     },
     "execution_count": 494,
     "metadata": {},
     "output_type": "execute_result"
    }
   ],
   "source": [
    "[1:5 m2[1]]"
   ]
  },
  {
   "cell_type": "code",
   "execution_count": 426,
   "id": "39ceedf2-a3e9-4b4f-af44-c5b75b03374c",
   "metadata": {},
   "outputs": [
    {
     "data": {
      "text/plain": [
       "2315"
      ]
     },
     "execution_count": 426,
     "metadata": {},
     "output_type": "execute_result"
    }
   ],
   "source": [
    "length(solutions)"
   ]
  },
  {
   "cell_type": "markdown",
   "id": "6ff42ed3-3bb0-42f5-b96f-8244e64292b3",
   "metadata": {},
   "source": [
    "### Play the game!\n",
    "Run each cell in sequence, filling in the line `response = ...`\n",
    "with the response from the wordle website\n",
    "Use the pattern "
   ]
  },
  {
   "cell_type": "code",
   "execution_count": 532,
   "id": "b35b759c-1894-483e-ae9b-366f28fa5cfa",
   "metadata": {},
   "outputs": [
    {
     "name": "stdout",
     "output_type": "stream",
     "text": [
      "FIRST MOVE: raise\n"
     ]
    }
   ],
   "source": [
    "pool = solutions\n",
    "nextword = \"raise\"\n",
    "println(\"FIRST MOVE: \", nextword)"
   ]
  },
  {
   "cell_type": "code",
   "execution_count": 516,
   "id": "f157eeae-418e-4aaa-a584-4400e96cde3b",
   "metadata": {},
   "outputs": [
    {
     "data": {
      "text/plain": [
       "5-element Vector{SubString{String}}:\n",
       " \"alike\"\n",
       " \"alive\"\n",
       " \"anime\"\n",
       " \"abide\"\n",
       " \"agile\""
      ]
     },
     "execution_count": 516,
     "metadata": {},
     "output_type": "execute_result"
    }
   ],
   "source": [
    "pool"
   ]
  },
  {
   "cell_type": "code",
   "execution_count": 533,
   "id": "856797cc-1223-4731-8479-ad8cc0b3e174",
   "metadata": {},
   "outputs": [
    {
     "name": "stdout",
     "output_type": "stream",
     "text": [
      "list of possible solutions (78): dwarf, croak, trawl, crazy, altar, crank, ultra, agora, aroma, hoard, foray, apron, augur, angry, cramp, quart, charm, groan, wharf, ardor, award, acorn, brawn, lunar, borax, track, molar, ovary, arbor, bravo, drawl, urban, adorn, array, drank, coral, prank, tramp, draft, gravy, abort, quark, flora, alarm, polar, crawl, wrack, actor, fraud, apart, drawn, broad, chard, armor, mural, moral, arrow, graph, craft, chart, brand, drama, cobra, prawn, board, grant, brawl, wrath, umbra, tract, frank, graft, abhor, grand, crack, guard, organ, aorta\n",
      "NEXT MOVE: tronc\n"
     ]
    }
   ],
   "source": [
    "response = \"11000\"\n",
    "pool = [ w for w in pool if wordscores[nextword*w] == response ]\n",
    "println(\"list of possible solutions ($(length(pool))): \", join(pool, \", \"))\n",
    "nextword = find_move(largelist, pool)\n",
    "println(\"NEXT MOVE: \", nextword)"
   ]
  },
  {
   "cell_type": "code",
   "execution_count": null,
   "id": "5f4e9543-ff83-40c0-b684-5cd8d068eb5a",
   "metadata": {},
   "outputs": [],
   "source": [
    "function apply_strategy( wsol, candidate_pool, solution_pool )\n",
    "    w1 = \"raise\"\n",
    "    m1 = wordscores[w1*wsol]  # measurement observed\n",
    "    if m1 == \"22222\"\n",
    "        return 1\n",
    "    end\n",
    "    poolx = [ w for w in solution_pool if wordscores[w1*w] == m1 ] # candidates remaining\n",
    "    \n",
    "    for j = 2:8\n",
    "        wx = find_move(candidate_pool, poolx)\n",
    "        mx = wordscores[wx*wsol]\n",
    "        if mx == \"22222\"\n",
    "            return j\n",
    "        end\n",
    "        poolx = [w for w in poolx if wordscores[wx*w] == mx ]\n",
    "    end\n",
    "    \n",
    "    return 100\n",
    "end;"
   ]
  }
 ],
 "metadata": {
  "kernelspec": {
   "display_name": "Julia 1.7.1",
   "language": "julia",
   "name": "julia-1.7"
  },
  "language_info": {
   "file_extension": ".jl",
   "mimetype": "application/julia",
   "name": "julia",
   "version": "1.7.1"
  }
 },
 "nbformat": 4,
 "nbformat_minor": 5
}
