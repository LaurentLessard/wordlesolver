{
 "cells": [
  {
   "cell_type": "markdown",
   "id": "8ce4c147-7bba-45eb-a398-f748ed7000f0",
   "metadata": {},
   "source": [
    "# Wordle solver\n",
    "by [Laurent Lessard](https://laurentlessard.com)\n",
    "\n",
    "This is a solver for the popular [Wordle](https://www.powerlanguage.co.uk/wordle/) game.\n",
    "Run all the cells in order. When you get to \"Play the game\", follow the instructions to input the game responses."
   ]
  },
  {
   "cell_type": "markdown",
   "id": "1dbbd7f9-f458-4bed-a680-56f0f1befa7d",
   "metadata": {},
   "source": [
    "### Import Utils"
   ]
  },
  {
   "cell_type": "code",
   "execution_count": 2,
   "id": "e1d5c736-e8fb-48ec-9c34-9a8d995711e6",
   "metadata": {},
   "outputs": [],
   "source": [
    "include(\"utils.jl\");"
   ]
  },
  {
   "cell_type": "markdown",
   "id": "d4396374-5339-49ce-ac73-c5d010f3daae",
   "metadata": {},
   "source": [
    "### Find best starting word"
   ]
  },
  {
   "cell_type": "code",
   "execution_count": 3,
   "id": "b582e316-198a-4702-8158-e9b7dc8860a0",
   "metadata": {},
   "outputs": [
    {
     "name": "stdout",
     "output_type": "stream",
     "text": [
      " 11.822501 seconds (122.40 M allocations: 13.596 GiB, 13.75% gc time, 4.55% compilation time)\n"
     ]
    },
    {
     "data": {
      "text/plain": [
       "\"raise\""
      ]
     },
     "execution_count": 3,
     "metadata": {},
     "output_type": "execute_result"
    }
   ],
   "source": [
    "# find the best first move according to a given heuristic\n",
    "@time begin\n",
    "    first_guess = find_move(ALL_WORDS, SOLUTION_WORDS, heuristic=PRIORITIZE_MAX_GROUP_SIZE)\n",
    "end"
   ]
  },
  {
   "cell_type": "markdown",
   "id": "6ff42ed3-3bb0-42f5-b96f-8244e64292b3",
   "metadata": {},
   "source": [
    "# Play the game!\n",
    "Run each cell in sequence, filling in `response = \".....\"`\n",
    "with the response from the wordle website. Use the format `\"01020\"`, where\n",
    "- `0` = empty square\n",
    "- `1` = yellow square\n",
    "- `2` = green square\n",
    "\n",
    "You can also customize the game mode and heuristic by changing how the `find_move` function is called:\n",
    "1. To search over all possible words, use `find_move(ALL_WORDS, pool)`\n",
    "2. To only search over common words, use `find_move(SOLUTION_WORDS, pool)`\n",
    "3. To play in hard mode (only remaining valid words are admissible), use `find_move(pool, pool)`\n",
    "\n",
    "Finally, you can choose which heuristic to use by adding a `heuristic=...` argument to the `find_move` function call. Options are:\n",
    "1. `PRIORITIZE_ENTROPY` (maximize entropy of ensuing distribution of words, this is the default)\n",
    "2. `PRIORITIZE_MAX_GROUP_SIZE` (minimize the word group of largest size, a greedy worst-case approach)\n",
    "3. `PRIORITIZE_SPLITS` (maximize the support of the ensuing distribution of words)\n",
    "\n",
    "For example, writing `next_guess = find_move(ALL_WORDS, pool, heuristic=PRIORITIZE_MAX_GROUP_SIZE)` will pick the next move from the word list of all available words, by maximizing the worst case scenario. This reduces the size of the valid solution pool by as much as possible in the worst case, which works well if you are playing against an adversarial opponent such as [Absurdle](https://qntm.org/files/wordle/index.html)."
   ]
  },
  {
   "cell_type": "code",
   "execution_count": 4,
   "id": "b35b759c-1894-483e-ae9b-366f28fa5cfa",
   "metadata": {},
   "outputs": [
    {
     "name": "stdout",
     "output_type": "stream",
     "text": [
      "FIRST MOVE: raise\n"
     ]
    }
   ],
   "source": [
    "pool = SOLUTION_WORDS\n",
    "next_guess = first_guess\n",
    "println(\"FIRST MOVE: \", next_guess)"
   ]
  },
  {
   "cell_type": "code",
   "execution_count": 5,
   "id": "856797cc-1223-4731-8479-ad8cc0b3e174",
   "metadata": {},
   "outputs": [
    {
     "name": "stdout",
     "output_type": "stream",
     "text": [
      "list of possible solutions (26): karma, major, marry, parry, labor, favor, harry, cargo, larva, manor, carry, valor, vapor, march, hardy, party, tardy, mayor, tarot, carol, warty, harpy, macro, baron, parka, carat\n",
      "NEXT MOVE: compt\n"
     ]
    }
   ],
   "source": [
    "response = \"12000\"\n",
    "pool = trim_pool(next_guess, response, pool)\n",
    "println(\"list of possible solutions ($(length(pool))): \", join(pool, \", \"))\n",
    "next_guess = find_move(ALL_WORDS, pool)\n",
    "println(\"NEXT MOVE: \", next_guess)"
   ]
  },
  {
   "cell_type": "code",
   "execution_count": 6,
   "id": "89945f87-e569-47ab-9692-94f745152a7d",
   "metadata": {},
   "outputs": [
    {
     "name": "stdout",
     "output_type": "stream",
     "text": [
      "list of possible solutions (4): labor, favor, valor, baron\n",
      "NEXT MOVE: valor\n"
     ]
    }
   ],
   "source": [
    "response = \"01000\"\n",
    "pool = trim_pool(next_guess, response, pool)\n",
    "println(\"list of possible solutions ($(length(pool))): \", join(pool, \", \"))\n",
    "next_guess = find_move(ALL_WORDS, pool)\n",
    "println(\"NEXT MOVE: \", next_guess)"
   ]
  },
  {
   "cell_type": "code",
   "execution_count": 7,
   "id": "42b66f4b-7405-4c4e-afbf-d3fc88846d99",
   "metadata": {},
   "outputs": [
    {
     "name": "stdout",
     "output_type": "stream",
     "text": [
      "list of possible solutions (1): favor\n",
      "NEXT MOVE: favor\n"
     ]
    }
   ],
   "source": [
    "response = \"12022\"\n",
    "pool = trim_pool(next_guess, response, pool)\n",
    "println(\"list of possible solutions ($(length(pool))): \", join(pool, \", \"))\n",
    "next_guess = find_move(ALL_WORDS, pool)\n",
    "println(\"NEXT MOVE: \", next_guess)"
   ]
  },
  {
   "cell_type": "code",
   "execution_count": 8,
   "id": "ee962ba3-fd86-48f2-8752-e22d3ac794a1",
   "metadata": {},
   "outputs": [
    {
     "name": "stdout",
     "output_type": "stream",
     "text": [
      "Unexpected response; skipping ...\n",
      "list of possible solutions (1): favor\n",
      "NEXT MOVE: favor\n"
     ]
    }
   ],
   "source": [
    "response = \".....\"\n",
    "pool = trim_pool(next_guess, response, pool)\n",
    "println(\"list of possible solutions ($(length(pool))): \", join(pool, \", \"))\n",
    "next_guess = find_move(ALL_WORDS, pool)\n",
    "println(\"NEXT MOVE: \", next_guess)"
   ]
  },
  {
   "cell_type": "code",
   "execution_count": null,
   "id": "977beb42",
   "metadata": {},
   "outputs": [],
   "source": []
  }
 ],
 "metadata": {
  "kernelspec": {
   "display_name": "Julia 1.7.1",
   "language": "julia",
   "name": "julia-1.7"
  },
  "language_info": {
   "file_extension": ".jl",
   "mimetype": "application/julia",
   "name": "julia",
   "version": "1.7.1"
  }
 },
 "nbformat": 4,
 "nbformat_minor": 5
}
