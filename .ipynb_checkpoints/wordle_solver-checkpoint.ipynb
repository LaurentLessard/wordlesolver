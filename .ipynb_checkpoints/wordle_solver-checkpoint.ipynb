{
 "cells": [
  {
   "cell_type": "code",
   "execution_count": 9,
   "id": "e4060d2f-045d-462d-a4ad-b412b5f2bbbb",
   "metadata": {},
   "outputs": [],
   "source": [
    "using Combinatorics\n",
    "using StatsBase\n",
    "using PyPlot"
   ]
  },
  {
   "cell_type": "markdown",
   "id": "1dbbd7f9-f458-4bed-a680-56f0f1befa7d",
   "metadata": {},
   "source": [
    "### Import word lists"
   ]
  },
  {
   "cell_type": "code",
   "execution_count": 10,
   "id": "ae1d1e85-0d59-431b-af34-87f6383b1485",
   "metadata": {},
   "outputs": [],
   "source": [
    "# list of words that can potentially be solutions\n",
    "s = open(\"solutions.txt\") do file\n",
    "    read(file, String)\n",
    "end\n",
    "s = replace(s, '\\\"' => \"\")\n",
    "solutions = split(s, \", \")\n",
    "\n",
    "# list of words that are valid guesses, but will never be solutions\n",
    "s = open(\"nonsolutions.txt\") do file\n",
    "    read(file, String)\n",
    "end\n",
    "s = replace(s, '\\\"' => \"\")\n",
    "nonsolutions = split(s, \", \")\n",
    "\n",
    "# all possible valid guesses\n",
    "largelist = [nonsolutions; solutions]\n",
    ";"
   ]
  },
  {
   "cell_type": "markdown",
   "id": "1f4c3b3e-1ed3-48ad-b0ad-dadd0f33cf0c",
   "metadata": {},
   "source": [
    "### Helper functions"
   ]
  },
  {
   "cell_type": "code",
   "execution_count": 11,
   "id": "c87fd3aa-fbd2-4043-8d40-7b2f52a04b7d",
   "metadata": {},
   "outputs": [],
   "source": [
    "function measure_word( word1, word2 )\n",
    "    s = []\n",
    "    for i = 1:5\n",
    "        if word1[i] == word2[i]\n",
    "            push!(s,'2')\n",
    "        elseif word1[i] in word2\n",
    "            push!(s,'1')\n",
    "        else\n",
    "            push!(s,'0')\n",
    "        end\n",
    "    end\n",
    "    return join(s)\n",
    "end;\n",
    "\n",
    "function argmin_set( S )\n",
    "    (s,ix) = findmin(S)\n",
    "    return findall( ==(s), S )\n",
    "end;\n",
    "\n",
    "# iterate through result dictionary, return maximum length (we want this to be small!)\n",
    "function get_maxsize(obj)\n",
    "    return findmax(length, obj)[1]  # findmax returns (val,key); we want the val\n",
    "end\n",
    "\n",
    "# iterate through result dictionary, return entropy of distribution of lengths (we want this to be large!)\n",
    "function get_entropy(obj)\n",
    "    v = [length(val) for (key,val) in obj]\n",
    "    return entropy(v/sum(v))\n",
    "end;\n",
    "\n",
    "# for a given word and candidate word pool, return map of meas => {candidate words}\n",
    "function get_groups( word, solution_pool )\n",
    "    out = Dict()\n",
    "    for wc in solution_pool\n",
    "        s = measure_word(word,wc)\n",
    "        if haskey(out,s)\n",
    "            push!(out[s], wc)\n",
    "        else\n",
    "            out[s] = [wc]\n",
    "        end\n",
    "    end\n",
    "    return out\n",
    "end;\n",
    "\n",
    "# find next move given a pool of available words\n",
    "function find_move( candidate_pool, solution_pool )\n",
    "    # loop over candidates, calculate size and entropy for each\n",
    "    sizelist = []\n",
    "    entrlist = []\n",
    "    for w in candidate_pool\n",
    "        grps = get_groups(w, solution_pool)\n",
    "        push!(sizelist, get_maxsize(grps))\n",
    "        push!(entrlist, get_entropy(grps))\n",
    "    end\n",
    "    \n",
    "    # extract indices of smallest sizes\n",
    "    ixs = argmin_set( sizelist )\n",
    "    \n",
    "    # see if any are in the pool. If so, prefer those!\n",
    "    ixs_belong = [ ix for ix in ixs if candidate_pool[ix] in solution_pool ]\n",
    "    if !isempty(ixs_belong)\n",
    "        ixs = ixs_belong\n",
    "    end\n",
    "    \n",
    "    # among all remaining candidates, pick one with highest entropy\n",
    "    ix_best = sort( ixs, by= ix->entrlist[ix], rev=true )[1]\n",
    "    return candidate_pool[ix_best]\n",
    "end;"
   ]
  },
  {
   "cell_type": "markdown",
   "id": "d4396374-5339-49ce-ac73-c5d010f3daae",
   "metadata": {},
   "source": [
    "### Find best starting word"
   ]
  },
  {
   "cell_type": "code",
   "execution_count": 13,
   "id": "b582e316-198a-4702-8158-e9b7dc8860a0",
   "metadata": {},
   "outputs": [
    {
     "name": "stdout",
     "output_type": "stream",
     "text": [
      " 24.719058 seconds (184.02 M allocations: 11.027 GiB, 3.33% gc time)\n"
     ]
    },
    {
     "data": {
      "text/plain": [
       "\"raise\""
      ]
     },
     "execution_count": 13,
     "metadata": {},
     "output_type": "execute_result"
    }
   ],
   "source": [
    "# find the best first move according to our heuristic\n",
    "@time begin\n",
    "    wfirst = find_move( largelist, solutions )\n",
    "end"
   ]
  },
  {
   "cell_type": "code",
   "execution_count": 33,
   "id": "e827a3df-7c66-449c-9d87-31dca83b85cb",
   "metadata": {},
   "outputs": [],
   "source": [
    "# apply strategy when wsol is the true word (wsol should be a member of both candidate_pool and solution_pool)\n",
    "# candidate pool must contain \"raise\" (chosen first word)\n",
    "# returns number of moves required\n",
    "function apply_strategy( wsol, candidate_pool, solution_pool )\n",
    "    w1 = \"raise\"\n",
    "    m1 = measure_word(w1,wsol)  # measurement observed\n",
    "    if m1 == \"22222\"\n",
    "        return 1\n",
    "    end\n",
    "    poolx = [ w for w in solution_pool if measure_word(w1,w) == m1 ] # candidates remaining\n",
    "    \n",
    "    for j = 2:8\n",
    "        wx = find_move(candidate_pool, poolx)\n",
    "        mx = measure_word(wx,wsol)\n",
    "        if mx == \"22222\"\n",
    "            return j\n",
    "        end\n",
    "        poolx = [w for w in poolx if measure_word(wx,w) == mx ]\n",
    "    end\n",
    "    @assert false \"error in applying the strategy\"\n",
    "end\n",
    "\n",
    "function trim_pool(testword, response, pool)\n",
    "    newpool = [ w for w in pool if measure_word(testword,w) == response ]\n",
    "    @assert !isempty(newpool) \"there are no solutions!\"\n",
    "    return newpool\n",
    "end;"
   ]
  },
  {
   "cell_type": "markdown",
   "id": "6ff42ed3-3bb0-42f5-b96f-8244e64292b3",
   "metadata": {},
   "source": [
    "# Play the game!\n",
    "Run each cell in sequence, filling in the line `response = \".....\"`\n",
    "with the response from the wordle website. When filling in the response, write for example `\"01020\"`, where\n",
    "- `0` = empty square\n",
    "- `1` = yellow square\n",
    "- `2` = green square\n",
    "\n",
    "If you want to only use more common words as part of your responses, in the line `nextword = find_move(largelist, pool)`, change `largelist` to `solutions`."
   ]
  },
  {
   "cell_type": "code",
   "execution_count": 34,
   "id": "b35b759c-1894-483e-ae9b-366f28fa5cfa",
   "metadata": {},
   "outputs": [
    {
     "name": "stdout",
     "output_type": "stream",
     "text": [
      "FIRST MOVE: raise\n"
     ]
    }
   ],
   "source": [
    "pool = solutions\n",
    "nextword = wfirst\n",
    "println(\"FIRST MOVE: \", nextword)"
   ]
  },
  {
   "cell_type": "code",
   "execution_count": 35,
   "id": "856797cc-1223-4731-8479-ad8cc0b3e174",
   "metadata": {},
   "outputs": [
    {
     "name": "stdout",
     "output_type": "stream",
     "text": [
      "list of possible solutions (78): dwarf, croak, trawl, crazy, altar, crank, ultra, agora, aroma, hoard, foray, apron, augur, angry, cramp, quart, charm, groan, wharf, ardor, award, acorn, brawn, lunar, borax, track, molar, ovary, arbor, bravo, drawl, urban, adorn, array, drank, coral, prank, tramp, draft, gravy, abort, quark, flora, alarm, polar, crawl, wrack, actor, fraud, apart, drawn, broad, chard, armor, mural, moral, arrow, graph, craft, chart, brand, drama, cobra, prawn, board, grant, brawl, wrath, umbra, tract, frank, graft, abhor, grand, crack, guard, organ, aorta\n",
      "NEXT MOVE: tronc\n"
     ]
    }
   ],
   "source": [
    "response = \"11000\"\n",
    "pool = trim_pool(nextword, response, pool)\n",
    "println(\"list of possible solutions ($(length(pool))): \", join(pool, \", \"))\n",
    "nextword = find_move(largelist, pool)\n",
    "println(\"NEXT MOVE: \", nextword)"
   ]
  },
  {
   "cell_type": "code",
   "execution_count": 36,
   "id": "89945f87-e569-47ab-9692-94f745152a7d",
   "metadata": {},
   "outputs": [
    {
     "name": "stdout",
     "output_type": "stream",
     "text": [
      "list of possible solutions (1): crank\n",
      "NEXT MOVE: crank\n"
     ]
    }
   ],
   "source": [
    "response = \"02021\"\n",
    "pool = trim_pool(nextword, response, pool)\n",
    "println(\"list of possible solutions ($(length(pool))): \", join(pool, \", \"))\n",
    "nextword = find_move(largelist, pool)\n",
    "println(\"NEXT MOVE: \", nextword)"
   ]
  },
  {
   "cell_type": "code",
   "execution_count": null,
   "id": "42b66f4b-7405-4c4e-afbf-d3fc88846d99",
   "metadata": {},
   "outputs": [],
   "source": [
    "response = \".....\"\n",
    "pool = trim_pool(nextword, response, pool)\n",
    "println(\"list of possible solutions ($(length(pool))): \", join(pool, \", \"))\n",
    "nextword = find_move(largelist, pool)\n",
    "println(\"NEXT MOVE: \", nextword)"
   ]
  },
  {
   "cell_type": "code",
   "execution_count": null,
   "id": "ee962ba3-fd86-48f2-8752-e22d3ac794a1",
   "metadata": {},
   "outputs": [],
   "source": [
    "response = \".....\"\n",
    "pool = trim_pool(nextword, response, pool)\n",
    "println(\"list of possible solutions ($(length(pool))): \", join(pool, \", \"))\n",
    "nextword = find_move(largelist, pool)\n",
    "println(\"NEXT MOVE: \", nextword)"
   ]
  }
 ],
 "metadata": {
  "kernelspec": {
   "display_name": "Julia 1.7.1",
   "language": "julia",
   "name": "julia-1.7"
  },
  "language_info": {
   "file_extension": ".jl",
   "mimetype": "application/julia",
   "name": "julia",
   "version": "1.7.1"
  }
 },
 "nbformat": 4,
 "nbformat_minor": 5
}
