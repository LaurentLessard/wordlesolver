{
 "cells": [
  {
   "cell_type": "markdown",
   "id": "8ce4c147-7bba-45eb-a398-f748ed7000f0",
   "metadata": {},
   "source": [
    "# Wordle solver\n",
    "by [Laurent Lessard](https://laurentlessard.com)\n",
    "\n",
    "This is a solver for the popular [Wordle](https://www.powerlanguage.co.uk/wordle/) game.\n",
    "Run all the cells in order. When you get to \"Play the game\", follow the instructions to input the game responses."
   ]
  },
  {
   "cell_type": "markdown",
   "id": "1dbbd7f9-f458-4bed-a680-56f0f1befa7d",
   "metadata": {},
   "source": [
    "### Import word lists"
   ]
  },
  {
   "cell_type": "code",
   "execution_count": 4,
   "id": "ae1d1e85-0d59-431b-af34-87f6383b1485",
   "metadata": {},
   "outputs": [],
   "source": [
    "# list of words that can potentially be solutions\n",
    "s = open(\"solutions.txt\") do file\n",
    "    read(file, String)\n",
    "end\n",
    "s = replace(s, '\\\"' => \"\")\n",
    "solutions = split(s, \", \")\n",
    "\n",
    "# list of words that are valid guesses, but will never be solutions\n",
    "s = open(\"nonsolutions.txt\") do file\n",
    "    read(file, String)\n",
    "end\n",
    "s = replace(s, '\\\"' => \"\")\n",
    "nonsolutions = split(s, \", \")\n",
    "\n",
    "# all possible valid guesses\n",
    "largelist = [nonsolutions; solutions]\n",
    ";"
   ]
  },
  {
   "cell_type": "markdown",
   "id": "1f4c3b3e-1ed3-48ad-b0ad-dadd0f33cf0c",
   "metadata": {},
   "source": [
    "### Helper functions"
   ]
  },
  {
   "cell_type": "code",
   "execution_count": 5,
   "id": "c87fd3aa-fbd2-4043-8d40-7b2f52a04b7d",
   "metadata": {},
   "outputs": [],
   "source": [
    "function measure_word( word1, word2 )\n",
    "    s = []\n",
    "    for i = 1:5\n",
    "        if word1[i] == word2[i]\n",
    "            push!(s,'2')\n",
    "        elseif word1[i] in word2\n",
    "            push!(s,'1')\n",
    "        else\n",
    "            push!(s,'0')\n",
    "        end\n",
    "    end\n",
    "    return join(s)\n",
    "end;\n",
    "\n",
    "function argmin_set( S )\n",
    "    (s,ix) = findmin(S)\n",
    "    return findall( ==(s), S )\n",
    "end;\n",
    "\n",
    "# iterate through result dictionary, return maximum length (we want this to be small!)\n",
    "function get_maxsize(obj)\n",
    "    return findmax(length, obj)[1]  # findmax returns (val,key); we want the val\n",
    "end\n",
    "\n",
    "# iterate through result dictionary, return entropy of distribution of lengths (we want this to be large!)\n",
    "function get_entropy(obj)\n",
    "    v = [length(val) for (key,val) in obj]\n",
    "    pmf = v/sum(v)\n",
    "    return sum( -p*log(p) for p in pmf )\n",
    "end\n",
    "\n",
    "# for a given word and candidate word pool, return map of meas => {candidate words}\n",
    "function get_groups( word, solution_pool )\n",
    "    out = Dict()\n",
    "    for wc in solution_pool\n",
    "        s = measure_word(word,wc)\n",
    "        if haskey(out,s)\n",
    "            push!(out[s], wc)\n",
    "        else\n",
    "            out[s] = [wc]\n",
    "        end\n",
    "    end\n",
    "    return out\n",
    "end;\n",
    "\n",
    "# find next move given a pool of available words\n",
    "function find_move( candidate_pool, solution_pool )\n",
    "    # loop over candidates, calculate size and entropy for each\n",
    "    sizelist = []\n",
    "    entrlist = []\n",
    "    for w in candidate_pool\n",
    "        grps = get_groups(w, solution_pool)\n",
    "        push!(sizelist, get_maxsize(grps))\n",
    "        push!(entrlist, get_entropy(grps))\n",
    "    end\n",
    "    \n",
    "    # extract indices of smallest sizes\n",
    "    ixs = argmin_set( sizelist )\n",
    "    \n",
    "    # see if any are in the pool. If so, prefer those!\n",
    "    ixs_belong = [ ix for ix in ixs if candidate_pool[ix] in solution_pool ]\n",
    "    if !isempty(ixs_belong)\n",
    "        ixs = ixs_belong\n",
    "    end\n",
    "    \n",
    "    # among all remaining candidates, pick one with highest entropy\n",
    "    ix_best = sort( ixs, by= ix->entrlist[ix], rev=true )[1]\n",
    "    return candidate_pool[ix_best]\n",
    "end\n",
    "\n",
    "# trim a pool of candidate words based on a current test word and the response it received\n",
    "function trim_pool(testword, response, pool)\n",
    "    newpool = [ w for w in pool if measure_word(testword,w) == response ]\n",
    "    @assert !isempty(newpool) \"there are no solutions!\"\n",
    "    return newpool\n",
    "end;"
   ]
  },
  {
   "cell_type": "markdown",
   "id": "d4396374-5339-49ce-ac73-c5d010f3daae",
   "metadata": {},
   "source": [
    "### Find best starting word"
   ]
  },
  {
   "cell_type": "code",
   "execution_count": 6,
   "id": "b582e316-198a-4702-8158-e9b7dc8860a0",
   "metadata": {},
   "outputs": [
    {
     "name": "stdout",
     "output_type": "stream",
     "text": [
      " 24.754546 seconds (186.12 M allocations: 11.144 GiB, 3.33% gc time, 2.31% compilation time)\n"
     ]
    },
    {
     "data": {
      "text/plain": [
       "\"raise\""
      ]
     },
     "execution_count": 6,
     "metadata": {},
     "output_type": "execute_result"
    }
   ],
   "source": [
    "# find the best first move according to our heuristic\n",
    "@time begin\n",
    "    wfirst = find_move( largelist, solutions )\n",
    "end"
   ]
  },
  {
   "cell_type": "markdown",
   "id": "6ff42ed3-3bb0-42f5-b96f-8244e64292b3",
   "metadata": {},
   "source": [
    "# Play the game!\n",
    "Run each cell in sequence, filling in `response = \".....\"`\n",
    "with the response from the wordle website. Use the format `\"01020\"`, where\n",
    "- `0` = empty square\n",
    "- `1` = yellow square\n",
    "- `2` = green square\n",
    "\n",
    "If you want to only use more common words as part of your responses, in the line `nextword = find_move(largelist, pool)`, change `largelist` to `solutions`."
   ]
  },
  {
   "cell_type": "code",
   "execution_count": 8,
   "id": "b35b759c-1894-483e-ae9b-366f28fa5cfa",
   "metadata": {},
   "outputs": [
    {
     "name": "stdout",
     "output_type": "stream",
     "text": [
      "FIRST MOVE: raise\n"
     ]
    }
   ],
   "source": [
    "pool = solutions\n",
    "nextword = wfirst # this should be \"raise\"\n",
    "println(\"FIRST MOVE: \", nextword)"
   ]
  },
  {
   "cell_type": "code",
   "execution_count": 9,
   "id": "856797cc-1223-4731-8479-ad8cc0b3e174",
   "metadata": {},
   "outputs": [
    {
     "name": "stdout",
     "output_type": "stream",
     "text": [
      "list of possible solutions (78): dwarf, croak, trawl, crazy, altar, crank, ultra, agora, aroma, hoard, foray, apron, augur, angry, cramp, quart, charm, groan, wharf, ardor, award, acorn, brawn, lunar, borax, track, molar, ovary, arbor, bravo, drawl, urban, adorn, array, drank, coral, prank, tramp, draft, gravy, abort, quark, flora, alarm, polar, crawl, wrack, actor, fraud, apart, drawn, broad, chard, armor, mural, moral, arrow, graph, craft, chart, brand, drama, cobra, prawn, board, grant, brawl, wrath, umbra, tract, frank, graft, abhor, grand, crack, guard, organ, aorta\n",
      "NEXT MOVE: tronc\n"
     ]
    }
   ],
   "source": [
    "response = \"11000\"\n",
    "pool = trim_pool(nextword, response, pool)\n",
    "println(\"list of possible solutions ($(length(pool))): \", join(pool, \", \"))\n",
    "nextword = find_move(largelist, pool)\n",
    "println(\"NEXT MOVE: \", nextword)"
   ]
  },
  {
   "cell_type": "code",
   "execution_count": 10,
   "id": "89945f87-e569-47ab-9692-94f745152a7d",
   "metadata": {},
   "outputs": [
    {
     "name": "stdout",
     "output_type": "stream",
     "text": [
      "list of possible solutions (1): crank\n",
      "NEXT MOVE: crank\n"
     ]
    }
   ],
   "source": [
    "response = \"02021\"\n",
    "pool = trim_pool(nextword, response, pool)\n",
    "println(\"list of possible solutions ($(length(pool))): \", join(pool, \", \"))\n",
    "nextword = find_move(largelist, pool)\n",
    "println(\"NEXT MOVE: \", nextword)"
   ]
  },
  {
   "cell_type": "code",
   "execution_count": null,
   "id": "42b66f4b-7405-4c4e-afbf-d3fc88846d99",
   "metadata": {},
   "outputs": [],
   "source": [
    "response = \".....\"\n",
    "pool = trim_pool(nextword, response, pool)\n",
    "println(\"list of possible solutions ($(length(pool))): \", join(pool, \", \"))\n",
    "nextword = find_move(largelist, pool)\n",
    "println(\"NEXT MOVE: \", nextword)"
   ]
  },
  {
   "cell_type": "code",
   "execution_count": null,
   "id": "ee962ba3-fd86-48f2-8752-e22d3ac794a1",
   "metadata": {},
   "outputs": [],
   "source": [
    "response = \".....\"\n",
    "pool = trim_pool(nextword, response, pool)\n",
    "println(\"list of possible solutions ($(length(pool))): \", join(pool, \", \"))\n",
    "nextword = find_move(largelist, pool)\n",
    "println(\"NEXT MOVE: \", nextword)"
   ]
  }
 ],
 "metadata": {
  "kernelspec": {
   "display_name": "Julia 1.7.1",
   "language": "julia",
   "name": "julia-1.7"
  },
  "language_info": {
   "file_extension": ".jl",
   "mimetype": "application/julia",
   "name": "julia",
   "version": "1.7.1"
  }
 },
 "nbformat": 4,
 "nbformat_minor": 5
}
