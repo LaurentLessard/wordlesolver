{
 "cells": [
  {
   "cell_type": "markdown",
   "id": "4c42d7a4-569f-46ad-8009-9ddbf62c8f1a",
   "metadata": {},
   "source": [
    "# Hard Mode\n",
    "\n",
    "Analysis by [Vincent Tjeng](https://vtjeng.com)\n",
    "\n",
    "[Wordle](https://www.powerlanguage.co.uk/wordle/) has a game mode known as \"hard mode\", in which any guess must be consistent with the hints provided from previous guesses. While it can take more turns for _humans_ to solve Wordle in hard mode, it's actually more straightforward for a _computer_ to generate a solution for Wordle (and prove that it is optimal) via brute force in hard mode, since the pool of guesses allowed diminishes rapidly after a few turns"
   ]
  },
  {
   "cell_type": "code",
   "execution_count": 36,
   "id": "e4060d2f-045d-462d-a4ad-b412b5f2bbbb",
   "metadata": {},
   "outputs": [],
   "source": [
    "include(\"utils.jl\");\n",
    "ProgressMeter.ijulia_behavior(:clear);"
   ]
  },
  {
   "cell_type": "code",
   "execution_count": 2,
   "id": "0e042948",
   "metadata": {},
   "outputs": [
    {
     "name": "stdout",
     "output_type": "stream",
     "text": [
      "  2.415100 seconds (29.63 M allocations: 2.507 GiB, 9.86% gc time, 0.13% compilation time)\n",
      "Updated MAX_NUM_SHARDS to 150.\n"
     ]
    }
   ],
   "source": [
    "cache_word_scores(SOLUTION_WORDS, SOLUTION_WORDS)\n",
    "optimize_max_num_shards()"
   ]
  },
  {
   "cell_type": "markdown",
   "id": "33ffa5ab",
   "metadata": {},
   "source": [
    "# Algorithm\n",
    "\n",
    "The `get_optimal_strategy_exhaustive` function searches for the optimal strategy for Wordle in hard mode given a limited `turns_budget`. It either returns FAIL (if no strategy satisfying the `turns_budget` exists) or returns a strategy with the best worst-case number of turns (ties are broken by the average number of turns).\n",
    "\n",
    "## Concepts\n",
    "- We think of each guess as \"splitting\" the solution pool into one or more \"shards\". (A \"shard\" contains all of the words in the solution pool that would have returned the same response to the guess; the shards cover the solution pool but don't overlap). \n",
    "- For a particular solution pool, a strategy satisfying `turns_budget` exists if and only if there exists an initial guess that splits the solution pool into shards, where _each_ shard has a strategy that succeeds in at most `turns_budget - 1` turns.\n",
    "\n",
    "## Optimizations\n",
    "A naive algorithm tries every possible combination of guesses. We implement the following optimizations:\n",
    "\n",
    "- We reduce `turns_budget` to the worst-case number of turns seen so far.\n",
    "- For a given first guess, we try to find a successful strategy for the shards in increasing order of size. Exploring smaller shards is quicker, and it's possible to fail relatively early on; if we do fail, we can short-circuit the computation and return FAIL for that first guess (and continue trying other guesses).\n",
    "- When left with a budget of 1 turn and a solution pool that contains 2 or more words, we return FAIL.\n",
    "- When left with a budget of 2 turns and a solution pool that contains 151 or more words, we return FAIL. (TRACE, which does best, splits the original solution pool into 150 buckets). \n",
    "\n",
    "### Considered but Unimplemented\n",
    "- We are currently trying the words in the order they were found in the word list. Sorting them by a heuristic might allow us to reduce `turns_budget` more quickly and stop trying guesses in less promising situations"
   ]
  },
  {
   "cell_type": "markdown",
   "id": "eee58443",
   "metadata": {},
   "source": [
    "# Hard mode, only guessing words that can be solutions, `turns_budget` = 4\n",
    "\n",
    "Given a budget of 4 turns, no strategy exists when you constrain yourself to guess only potential solutions."
   ]
  },
  {
   "cell_type": "code",
   "execution_count": 3,
   "id": "ef01b9b3",
   "metadata": {},
   "outputs": [
    {
     "name": "stderr",
     "output_type": "stream",
     "text": [
      "\u001b[32mProgress: 100%|█████████████████████████████████████████| Time: 0:00:04\u001b[39m\n",
      "\u001b[34m  best_guess:              N/A\u001b[39m\n",
      "\u001b[34m  best_max_num_turns:      N/A\u001b[39m\n",
      "\u001b[34m  best_average_num_turns:  N/A\u001b[39m\n",
      "\u001b[34m  num_skipped:             2309\u001b[39m\n",
      "\u001b[34m  valid_guesses:           Tuple{String, Float64, Float64}[]\u001b[39m\n"
     ]
    }
   ],
   "source": [
    "r = get_optimal_strategy_exhaustive(\n",
    "    SOLUTION_WORD_IDXS, \n",
    "    SOLUTION_WORD_IDXS, \n",
    "    hard_mode=true, \n",
    "    turns_budget=4,\n",
    "    show_progress=true\n",
    ")"
   ]
  },
  {
   "cell_type": "markdown",
   "id": "df7a80b0",
   "metadata": {},
   "source": [
    "# Hard mode, only guessing words that can be solutions, `turns_budget` = 5\n",
    "\n",
    "Given a budget of 5 turns, two initial guesses (\"scowl\" and \"stamp\") succeed when you constrain yourself to guess only potential solutions. Excitingly, the brute-force search takes only 3 minutes!"
   ]
  },
  {
   "cell_type": "code",
   "execution_count": 4,
   "id": "fe27bee5",
   "metadata": {},
   "outputs": [
    {
     "name": "stderr",
     "output_type": "stream",
     "text": [
      "\u001b[32mProgress: 100%|█████████████████████████████████████████| Time: 0:02:25\u001b[39m\n",
      "\u001b[34m  best_guess:              scamp\u001b[39m\n",
      "\u001b[34m  best_max_num_turns:      5\u001b[39m\n",
      "\u001b[34m  best_average_num_turns:  3.715461238631442\u001b[39m\n",
      "\u001b[34m  num_skipped:             2307\u001b[39m\n",
      "\u001b[34m  valid_guesses:           [(\"scowl\", 5.0, 3.7522737115634475), (\"scamp\", 5.0, 3.715461238631442)]\u001b[39m\n"
     ]
    }
   ],
   "source": [
    "r = get_optimal_strategy_exhaustive(\n",
    "    SOLUTION_WORD_IDXS, \n",
    "    SOLUTION_WORD_IDXS, \n",
    "    hard_mode=true, \n",
    "    turns_budget=5,\n",
    "    show_progress=true\n",
    ")\n",
    "num_turns, guess, strat = r;"
   ]
  },
  {
   "cell_type": "code",
   "execution_count": 38,
   "id": "1646263d",
   "metadata": {},
   "outputs": [
    {
     "data": {
      "image/png": "[encoded data removed]",
      "text/plain": [
       "Figure(PyObject <Figure size 640x480 with 1 Axes>)"
      ]
     },
     "metadata": {},
     "output_type": "display_data"
    }
   ],
   "source": [
    "plot_num_turns(\n",
    "    num_turns, \n",
    "    title_text=\"5-turn solution for hard mode, starting with SCAMP\",\n",
    "    saved_filename=\"strat_using_solutions_only_hard_mode_optimal.png\"\n",
    ")"
   ]
  },
  {
   "cell_type": "code",
   "execution_count": 7,
   "id": "79b0fc5c",
   "metadata": {},
   "outputs": [],
   "source": [
    "open(\"hard_mode_strategy.md\", \"w\") do io\n",
    "    println(io, get_strategy_text([guess], strat, print_prefix = true))\n",
    "end"
   ]
  },
  {
   "cell_type": "markdown",
   "id": "7473eabf",
   "metadata": {},
   "source": [
    "# Hard mode, guess any 5-letter word, `turns_budget` = 4\n",
    "\n",
    "We revisit the situation where our budget is 4 turns, this time relaxing the constraint that we guess only potential solutions. It takes a bit more time, but we can show that no strategy guarantees a solution in 4 steps - even when we allow guessing all ~13k valid 5-letter words (rather than just the ~2.3k potential solutions)!"
   ]
  },
  {
   "cell_type": "code",
   "execution_count": 7,
   "id": "7a42c810",
   "metadata": {},
   "outputs": [
    {
     "name": "stdout",
     "output_type": "stream",
     "text": [
      " 86.447014 seconds (996.38 M allocations: 80.041 GiB, 18.71% gc time)\n"
     ]
    }
   ],
   "source": [
    "cache_word_scores(ALL_WORDS, ALL_WORDS)"
   ]
  },
  {
   "cell_type": "code",
   "execution_count": 8,
   "id": "28a289f9",
   "metadata": {},
   "outputs": [
    {
     "name": "stderr",
     "output_type": "stream",
     "text": [
      "\u001b[32mProgress: 100%|█████████████████████████████████████████| Time: 2:39:58\u001b[39m\n",
      "\u001b[34m  best_guess:              N/A\u001b[39m\n",
      "\u001b[34m  best_max_num_turns:      N/A\u001b[39m\n",
      "\u001b[34m  best_average_num_turns:  N/A\u001b[39m\n",
      "\u001b[34m  num_skipped:             12972\u001b[39m\n",
      "\u001b[34m  valid_guesses:           Tuple{String, Float64, Float64}[]\u001b[39m\n"
     ]
    }
   ],
   "source": [
    "r = get_optimal_strategy_exhaustive(\n",
    "    ALL_WORD_IDXS, \n",
    "    SOLUTION_WORD_IDXS, \n",
    "    hard_mode=true, \n",
    "    turns_budget=4,\n",
    "    show_progress=true\n",
    ")"
   ]
  },
  {
   "cell_type": "code",
   "execution_count": null,
   "id": "503363db",
   "metadata": {},
   "outputs": [],
   "source": []
  },
  {
   "cell_type": "markdown",
   "id": "73e6f8a5-6da0-4bf4-b37d-0d8e8c348778",
   "metadata": {},
   "source": [
    "# Easy mode, guess any 5-letter word, `turns_budget` = 4"
   ]
  },
  {
   "cell_type": "code",
   "execution_count": 1,
   "id": "7704ec2b-5501-434a-a3dd-659987cc8d1b",
   "metadata": {},
   "outputs": [],
   "source": [
    "include(\"utils.jl\");\n",
    "ProgressMeter.ijulia_behavior(:clear);"
   ]
  },
  {
   "cell_type": "code",
   "execution_count": 2,
   "id": "c5f50e23-7b3c-4595-bf42-59833061d1d4",
   "metadata": {},
   "outputs": [
    {
     "name": "stdout",
     "output_type": "stream",
     "text": [
      " 12.488186 seconds (172.37 M allocations: 14.203 GiB, 8.42% gc time, 0.03% compilation time)\n",
      "Updated MAX_NUM_SHARDS to 150.\n"
     ]
    }
   ],
   "source": [
    "cache_word_scores(ALL_WORDS, SOLUTION_WORDS)\n",
    "optimize_max_num_shards()"
   ]
  },
  {
   "cell_type": "code",
   "execution_count": 3,
   "id": "caa91989-5112-4173-bbd7-afe3b5414f5d",
   "metadata": {},
   "outputs": [
    {
     "name": "stderr",
     "output_type": "stream",
     "text": [
      "\u001b[32mProgress: 100%|█████████████████████████████████████████| Time: 0:26:29\u001b[39m\n",
      "\u001b[34m  best_guess:              N/A\u001b[39m\n",
      "\u001b[34m  best_max_num_turns:      N/A\u001b[39m\n",
      "\u001b[34m  best_average_num_turns:  N/A\u001b[39m\n",
      "\u001b[34m  num_skipped:             12972\u001b[39m\n",
      "\u001b[34m  valid_guesses:           Tuple{String, Float64, Float64}[]\u001b[39m\n"
     ]
    },
    {
     "name": "stdout",
     "output_type": "stream",
     "text": [
      "cigar: no solution\n"
     ]
    }
   ],
   "source": [
    "initial_guess = 1\n",
    "\n",
    "r = get_optimal_strategy_exhaustive_helper(\n",
    "    ALL_WORD_IDXS,\n",
    "    SOLUTION_WORD_IDXS,\n",
    "    initial_guess,\n",
    "    hard_mode = false,\n",
    "    turns_budget = 4\n",
    ")\n",
    "if isnothing(r)\n",
    "    println(ALL_WORDS[initial_guess], \": no solution\")\n",
    "else\n",
    "    best_num_turns, best_strat = r\n",
    "    print_strategy(initial_guess, best_strat)\n",
    "end"
   ]
  },
  {
   "cell_type": "code",
   "execution_count": null,
   "id": "24971763-27f7-41f1-b7eb-99aebc4b3fa8",
   "metadata": {},
   "outputs": [],
   "source": []
  }
 ],
 "metadata": {
  "kernelspec": {
   "display_name": "Julia 1.7.1",
   "language": "julia",
   "name": "julia-1.7"
  },
  "language_info": {
   "file_extension": ".jl",
   "mimetype": "application/julia",
   "name": "julia",
   "version": "1.7.1"
  }
 },
 "nbformat": 4,
 "nbformat_minor": 5
}
