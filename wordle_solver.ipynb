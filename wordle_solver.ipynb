{
 "cells": [
  {
   "cell_type": "markdown",
   "id": "8ce4c147-7bba-45eb-a398-f748ed7000f0",
   "metadata": {},
   "source": [
    "# Wordle solver\n",
    "by [Laurent Lessard](https://laurentlessard.com)\n",
    "\n",
    "This is a solver for the popular [Wordle](https://www.powerlanguage.co.uk/wordle/) game.\n",
    "Run all the cells in order. When you get to \"Play the game\", follow the instructions to input the game responses."
   ]
  },
  {
   "cell_type": "markdown",
   "id": "1dbbd7f9-f458-4bed-a680-56f0f1befa7d",
   "metadata": {},
   "source": [
    "### Import word lists"
   ]
  },
  {
   "cell_type": "code",
   "execution_count": 1,
   "id": "e06b037f",
   "metadata": {},
   "outputs": [],
   "source": [
    "function parse_word_list(filename::String)::Vector{String}\n",
    "    s = open(filename) do file\n",
    "        read(file, String)\n",
    "    end\n",
    "    s = replace(s, '\\\"' => \"\")\n",
    "    return split(s, \", \")\n",
    "end;"
   ]
  },
  {
   "cell_type": "code",
   "execution_count": 2,
   "id": "ae1d1e85-0d59-431b-af34-87f6383b1485",
   "metadata": {},
   "outputs": [],
   "source": [
    "# list of words that can potentially be solutions\n",
    "solutions = parse_word_list(\"solutions.txt\")\n",
    "\n",
    "# list of words that are valid guesses, but will never be solutions\n",
    "nonsolutions = parse_word_list(\"nonsolutions.txt\")\n",
    "\n",
    "# all possible valid guesses\n",
    "largelist = [nonsolutions; solutions]\n",
    ";"
   ]
  },
  {
   "cell_type": "markdown",
   "id": "1f4c3b3e-1ed3-48ad-b0ad-dadd0f33cf0c",
   "metadata": {},
   "source": [
    "### Helper functions"
   ]
  },
  {
   "cell_type": "code",
   "execution_count": 3,
   "id": "c87fd3aa-fbd2-4043-8d40-7b2f52a04b7d",
   "metadata": {},
   "outputs": [],
   "source": [
    "function measure_word(word1::String, word2::String)::Int64\n",
    "    s = 0\n",
    "    for i = 1:5\n",
    "        s *= 10\n",
    "        if word1[i] == word2[i]\n",
    "            s += 2\n",
    "        elseif word1[i] in word2\n",
    "            s += 1\n",
    "        else\n",
    "            s += 0\n",
    "        end\n",
    "    end\n",
    "    return s\n",
    "end\n",
    "\n",
    "# return entropy of distribution of group_sizes (we want this to be large!)\n",
    "function get_entropy(group_sizes::Vector{Int64})::Float64\n",
    "    pmf = group_sizes/sum(group_sizes)\n",
    "    return sum( -p*log(p) for p in pmf )\n",
    "end;\n",
    "\n",
    "# returns the sizes of the groups of words in `solution_pool` that have the same\n",
    "# response when the guessed word is `guessed_word`.\n",
    "function get_group_sizes(\n",
    "    guessed_word::String,\n",
    "    solution_pool::Vector{String}\n",
    ")::Vector{Int64}\n",
    "    out = Dict{Int64, Int64}()\n",
    "    for wc in solution_pool\n",
    "        s = measure_word(guessed_word, wc)\n",
    "        if haskey(out, s)\n",
    "            out[s] += 1\n",
    "        else\n",
    "            out[s] = 1\n",
    "        end\n",
    "    end\n",
    "    return collect(values(out))\n",
    "end\n",
    "\n",
    "Base.Enums.@enum Heuristic begin\n",
    "    PRIORITIZE_ENTROPY = 1\n",
    "    PRIORITIZE_MAX_GROUP_SIZE = 2\n",
    "end\n",
    "\n",
    "# find next move given a pool of available words\n",
    "function find_move(\n",
    "    candidate_pool::Vector{String}, \n",
    "    solution_pool::Vector{String};\n",
    "    heuristic::Heuristic = PRIORITIZE_ENTROPY\n",
    ")::String\n",
    "    group_sizes::Vector{Vector{Int64}} = map(w -> get_group_sizes(w, solution_pool), candidate_pool)\n",
    "    maximum_group_size::Vector{Int64} = map(maximum, group_sizes)\n",
    "    entropy::Vector{Float64} = map(get_entropy, group_sizes)\n",
    "    is_potential_solution::Vector{Bool} = map(w -> w in solution_pool, candidate_pool)\n",
    "    \n",
    "    if heuristic == PRIORITIZE_ENTROPY\n",
    "        # first maximize entropy\n",
    "        # if there are ties, we prefer words in the solution pool\n",
    "        # if there are still ties, we minimize the maximum group size\n",
    "        solution_score = zip(entropy, is_potential_solution, -maximum_group_size)\n",
    "    elseif heuristic == PRIORITIZE_MAX_GROUP_SIZE\n",
    "        # first minimize the maximum group size\n",
    "        # if there are ties, we prefer words in the solution pool\n",
    "        # if there are still ties, we maximize the entropy\n",
    "        solution_score = zip(-maximum_group_size, is_potential_solution, entropy)\n",
    "    else\n",
    "        throw(ArgumentError(\"Unexpected heuristic.\"))\n",
    "    end\n",
    "    \n",
    "    # when solution scores are tied, we pick the lexicographically first word\n",
    "    return maximum(zip(solution_score, candidate_pool))[2]\n",
    "end\n",
    "\n",
    "# trim a pool of candidate words based on a current test word and the response it received\n",
    "function trim_pool(testword::String, response::Int64, pool::Vector{String})\n",
    "    newpool = [ w for w in pool if measure_word(testword, w) == response ]\n",
    "    @assert !isempty(newpool) \"there are no solutions!\"\n",
    "    return newpool\n",
    "end;\n",
    "\n",
    "function trim_pool(testword::String, response::String, pool::Vector{String})\n",
    "    if length(response) != 5\n",
    "        println(\"Your response should be of length 5.\")\n",
    "        return pool\n",
    "    end\n",
    "    try\n",
    "        return trim_pool(testword, parse(Int64, response), pool)\n",
    "    catch e\n",
    "        if isa(e, ArgumentError)\n",
    "            println(\"Unexpected response; skipping ...\")\n",
    "            return pool\n",
    "        else\n",
    "            rethrow(e)\n",
    "        end\n",
    "    end\n",
    "end;"
   ]
  },
  {
   "cell_type": "markdown",
   "id": "d4396374-5339-49ce-ac73-c5d010f3daae",
   "metadata": {},
   "source": [
    "### Find best starting word"
   ]
  },
  {
   "cell_type": "code",
   "execution_count": 4,
   "id": "b582e316-198a-4702-8158-e9b7dc8860a0",
   "metadata": {},
   "outputs": [
    {
     "name": "stdout",
     "output_type": "stream",
     "text": [
      "  2.775349 seconds (542.59 k allocations: 117.547 MiB, 3.56% gc time, 2.26% compilation time)\n"
     ]
    },
    {
     "data": {
      "text/plain": [
       "\"soare\""
      ]
     },
     "execution_count": 4,
     "metadata": {},
     "output_type": "execute_result"
    }
   ],
   "source": [
    "# find the best first move according to our heuristic\n",
    "@time begin\n",
    "    wfirst = find_move( largelist, solutions )\n",
    "end"
   ]
  },
  {
   "cell_type": "markdown",
   "id": "6ff42ed3-3bb0-42f5-b96f-8244e64292b3",
   "metadata": {},
   "source": [
    "# Play the game!\n",
    "Run each cell in sequence, filling in `response = \".....\"`\n",
    "with the response from the wordle website. Use the format `\"01020\"`, where\n",
    "- `0` = empty square\n",
    "- `1` = yellow square\n",
    "- `2` = green square\n",
    "\n",
    "If you want to only use more common words as part of your responses, in the line `nextword = find_move(largelist, pool)`, change `largelist` to `solutions`."
   ]
  },
  {
   "cell_type": "code",
   "execution_count": 5,
   "id": "b35b759c-1894-483e-ae9b-366f28fa5cfa",
   "metadata": {},
   "outputs": [
    {
     "name": "stdout",
     "output_type": "stream",
     "text": [
      "FIRST MOVE: soare\n"
     ]
    }
   ],
   "source": [
    "pool = solutions\n",
    "nextword = wfirst\n",
    "println(\"FIRST MOVE: \", nextword)"
   ]
  },
  {
   "cell_type": "code",
   "execution_count": 6,
   "id": "856797cc-1223-4731-8479-ad8cc0b3e174",
   "metadata": {},
   "outputs": [
    {
     "name": "stdout",
     "output_type": "stream",
     "text": [
      "list of possible solutions (9): forge, rogue, rouge, gorge, horde, route, force, borne, forte\n",
      "NEXT MOVE: grunt\n"
     ]
    }
   ],
   "source": [
    "response = \"02012\"\n",
    "pool = trim_pool(nextword, response, pool)\n",
    "println(\"list of possible solutions ($(length(pool))): \", join(pool, \", \"))\n",
    "nextword = find_move(largelist, pool)\n",
    "println(\"NEXT MOVE: \", nextword)"
   ]
  },
  {
   "cell_type": "code",
   "execution_count": 7,
   "id": "89945f87-e569-47ab-9692-94f745152a7d",
   "metadata": {},
   "outputs": [
    {
     "name": "stdout",
     "output_type": "stream",
     "text": [
      "list of possible solutions (1): gorge\n",
      "NEXT MOVE: gorge\n"
     ]
    }
   ],
   "source": [
    "response = \"21000\"\n",
    "pool = trim_pool(nextword, response, pool)\n",
    "println(\"list of possible solutions ($(length(pool))): \", join(pool, \", \"))\n",
    "nextword = find_move(largelist, pool)\n",
    "println(\"NEXT MOVE: \", nextword)"
   ]
  },
  {
   "cell_type": "code",
   "execution_count": 8,
   "id": "42b66f4b-7405-4c4e-afbf-d3fc88846d99",
   "metadata": {},
   "outputs": [
    {
     "name": "stdout",
     "output_type": "stream",
     "text": [
      "Unexpected response; skipping ...\n",
      "list of possible solutions (1): gorge\n",
      "NEXT MOVE: gorge\n"
     ]
    }
   ],
   "source": [
    "response = \".....\"\n",
    "pool = trim_pool(nextword, response, pool)\n",
    "println(\"list of possible solutions ($(length(pool))): \", join(pool, \", \"))\n",
    "nextword = find_move(largelist, pool)\n",
    "println(\"NEXT MOVE: \", nextword)"
   ]
  },
  {
   "cell_type": "code",
   "execution_count": 9,
   "id": "ee962ba3-fd86-48f2-8752-e22d3ac794a1",
   "metadata": {},
   "outputs": [
    {
     "name": "stdout",
     "output_type": "stream",
     "text": [
      "Unexpected response; skipping ...\n",
      "list of possible solutions (1): gorge\n",
      "NEXT MOVE: gorge\n"
     ]
    }
   ],
   "source": [
    "response = \".....\"\n",
    "pool = trim_pool(nextword, response, pool)\n",
    "println(\"list of possible solutions ($(length(pool))): \", join(pool, \", \"))\n",
    "nextword = find_move(largelist, pool)\n",
    "println(\"NEXT MOVE: \", nextword)"
   ]
  }
 ],
 "metadata": {
  "kernelspec": {
   "display_name": "Julia 1.7.1",
   "language": "julia",
   "name": "julia-1.7"
  },
  "language_info": {
   "file_extension": ".jl",
   "mimetype": "application/julia",
   "name": "julia",
   "version": "1.7.1"
  }
 },
 "nbformat": 4,
 "nbformat_minor": 5
}
