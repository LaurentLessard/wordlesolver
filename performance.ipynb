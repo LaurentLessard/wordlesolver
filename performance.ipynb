{
 "cells": [
  {
   "cell_type": "markdown",
   "id": "4c42d7a4-569f-46ad-8009-9ddbf62c8f1a",
   "metadata": {},
   "source": [
    "# Evaluating performance\n",
    "\n",
    "This file applies the strategy from `wordle_solver.ipynb` to all possible words and creates histograms to show the results. There is one key difference between the implementation in this file and the one in `wordle_solver.ipynb`. Here, we pre-compute and cache all possible measurements of word pairs, which saves time later when we have to run the strategy repeatedly on all words in the dictionary."
   ]
  },
  {
   "cell_type": "code",
   "execution_count": 1,
   "id": "e4060d2f-045d-462d-a4ad-b412b5f2bbbb",
   "metadata": {},
   "outputs": [],
   "source": [
    "using PyPlot\n",
    "# For @showprogress\n",
    "using ProgressMeter\n",
    "# for prop, freqtable\n",
    "using FreqTables\n",
    "# for mean\n",
    "using Statistics\n",
    "# for countmap\n",
    "using StatsBase"
   ]
  },
  {
   "cell_type": "code",
   "execution_count": 2,
   "id": "7ed88a4d",
   "metadata": {},
   "outputs": [],
   "source": [
    "function parse_word_list(filename::String)::Vector{String}\n",
    "    s = open(filename) do file\n",
    "        read(file, String)\n",
    "    end\n",
    "    s = replace(s, '\\\"' => \"\")\n",
    "    return split(s, \", \")\n",
    "end;"
   ]
  },
  {
   "cell_type": "code",
   "execution_count": 3,
   "id": "ae1d1e85-0d59-431b-af34-87f6383b1485",
   "metadata": {
    "tags": []
   },
   "outputs": [],
   "source": [
    "# list of words that can potentially be solutions\n",
    "solutions = parse_word_list(\"solutions.txt\")\n",
    "\n",
    "# list of words that are valid guesses, but will never be solutions\n",
    "nonsolutions = parse_word_list(\"nonsolutions.txt\")\n",
    "\n",
    "# all possible valid guesses\n",
    "largelist = [nonsolutions; solutions]\n",
    ";"
   ]
  },
  {
   "cell_type": "code",
   "execution_count": 4,
   "id": "6df329b4-5b7f-484a-85a0-0755df8f43aa",
   "metadata": {},
   "outputs": [],
   "source": [
    "function measure_word(word1::String, word2::String)::Int64\n",
    "    counts = countmap(word2)\n",
    "    s2 = 0\n",
    "    for i = 1:5\n",
    "        s2 *= 10\n",
    "        if word1[i] == word2[i]\n",
    "            s2 += 2\n",
    "            counts[word1[i]] -= 1\n",
    "        end\n",
    "    end\n",
    "    s1 = 0\n",
    "    for i = 1:5\n",
    "        s1 *= 10\n",
    "        if word1[i] != word2[i] && word1[i] in word2 && counts[word1[i]] > 0\n",
    "            s1 += 1\n",
    "            counts[word1[i]] -= 1\n",
    "        end\n",
    "    end\n",
    "    return s1+s2\n",
    "end\n",
    "\n",
    "# return entropy of distribution of group_sizes (we want this to be large!)\n",
    "function get_entropy(group_sizes::Vector{Int64})::Float64\n",
    "    pmf = group_sizes/sum(group_sizes)\n",
    "    return sum( -p*log(p) for p in pmf )\n",
    "end;"
   ]
  },
  {
   "cell_type": "markdown",
   "id": "bb19f625-2da5-4982-9a37-bea960b6c396",
   "metadata": {},
   "source": [
    "### Pre-cache measurements for all word pairs"
   ]
  },
  {
   "cell_type": "code",
   "execution_count": 5,
   "id": "1814dac7-69ab-4c43-a553-e6dffce37cd7",
   "metadata": {},
   "outputs": [
    {
     "name": "stdout",
     "output_type": "stream",
     "text": [
      " 50.062699 seconds (216.66 M allocations: 17.880 GiB, 36.58% gc time)\n"
     ]
    }
   ],
   "source": [
    "# cache measurements for all possible pairs of words (this saves time down the road)\n",
    "@time begin\n",
    "    wordscores = Dict{String, Int64}()\n",
    "    for w1 in largelist\n",
    "        for w2 in solutions\n",
    "            wordscores[w1*w2] = measure_word(w1,w2)\n",
    "        end\n",
    "    end\n",
    "end;"
   ]
  },
  {
   "cell_type": "markdown",
   "id": "a2837438",
   "metadata": {},
   "source": [
    "### Enum to describe different possible heuristics"
   ]
  },
  {
   "cell_type": "code",
   "execution_count": 6,
   "id": "9295638c",
   "metadata": {},
   "outputs": [],
   "source": [
    "Base.Enums.@enum Heuristic begin\n",
    "    PRIORITIZE_ENTROPY = 1\n",
    "    PRIORITIZE_MAX_GROUP_SIZE = 2\n",
    "end"
   ]
  },
  {
   "cell_type": "markdown",
   "id": "9f0f953c-fb08-4ad3-a8d2-39efda5951f0",
   "metadata": {},
   "source": [
    "### Optimized helper functions using the cached measurements"
   ]
  },
  {
   "cell_type": "code",
   "execution_count": 7,
   "id": "9280448a-498e-42ff-b60f-572a379028ec",
   "metadata": {},
   "outputs": [],
   "source": [
    "# returns the sizes of the groups of words in `solution_pool` that have the same\n",
    "# response when the guessed word is `guessed_word`.\n",
    "function get_group_sizes(\n",
    "    guessed_word::String,\n",
    "    solution_pool::Vector{String}\n",
    ")::Vector{Int64}\n",
    "    out = Dict{Int64, Int64}()\n",
    "    for wc in solution_pool\n",
    "        s = wordscores[guessed_word*wc]\n",
    "        if haskey(out, s)\n",
    "            out[s] += 1\n",
    "        else\n",
    "            out[s] = 1\n",
    "        end\n",
    "    end\n",
    "    return collect(values(out))\n",
    "end\n",
    "\n",
    "function find_move(\n",
    "    candidate_pool::Vector{String}, \n",
    "    solution_pool::Vector{String};\n",
    "    heuristic::Heuristic = PRIORITIZE_ENTROPY\n",
    ")::String\n",
    "    group_sizes::Vector{Vector{Int64}} = map(w -> get_group_sizes(w, solution_pool), candidate_pool)\n",
    "    maximum_group_size::Vector{Int64} = map(maximum, group_sizes)\n",
    "    entropy::Vector{Float64} = map(get_entropy, group_sizes)\n",
    "    is_potential_solution::Vector{Bool} = map(w -> w in solution_pool, candidate_pool)\n",
    "    \n",
    "    if heuristic == PRIORITIZE_ENTROPY\n",
    "        # first maximize entropy\n",
    "        # if there are ties, we prefer words in the solution pool\n",
    "        # if there are still ties, we minimize the maximum group size\n",
    "        solution_score = zip(entropy, is_potential_solution, -maximum_group_size)\n",
    "    elseif heuristic == PRIORITIZE_MAX_GROUP_SIZE\n",
    "        # first minimize the maximum group size\n",
    "        # if there are ties, we prefer words in the solution pool\n",
    "        # if there are still ties, we maximize the entropy\n",
    "        solution_score = zip(-maximum_group_size, is_potential_solution, entropy)\n",
    "    else\n",
    "        throw(ArgumentError(\"Unexpected heuristic.\"))\n",
    "    end\n",
    "    \n",
    "    # when solution scores are tied, we pick the lexicographically first word\n",
    "    return maximum(zip(solution_score, candidate_pool))[2]\n",
    "end\n",
    "\n",
    "# trim a pool of candidate words based on a current test word and the response it received\n",
    "function trim_pool(testword::String, response::Int64, pool::Vector{String})\n",
    "    newpool = [ w for w in pool if wordscores[testword*w] == response ]\n",
    "    @assert !isempty(newpool) \"there are no solutions!\"\n",
    "    return newpool\n",
    "end;\n",
    "\n",
    "# apply strategy when wsol is the true word (wsol should be a member of both candidate_pool and solution_pool)\n",
    "# candidate pool must contain first_word\n",
    "# returns number of moves required\n",
    "function apply_strategy(\n",
    "    wsol::String,\n",
    "    first_word::String,\n",
    "    candidate_pool::Vector{String},\n",
    "    solution_pool::Vector{String};\n",
    "    heuristic::Heuristic = PRIORITIZE_ENTROPY,\n",
    "    hard_mode::Bool = false\n",
    ")::Int64\n",
    "    pool = solution_pool\n",
    "    nextword = first_word\n",
    "    \n",
    "    for j = 1:10\n",
    "        response = wordscores[nextword*wsol]\n",
    "        if response == 22222\n",
    "            return j\n",
    "        end\n",
    "        pool = trim_pool(nextword, response, pool)\n",
    "        if hard_mode\n",
    "            nextword = find_move(pool, pool, heuristic = heuristic)\n",
    "        else\n",
    "            nextword = find_move(candidate_pool, pool, heuristic = heuristic)\n",
    "        end\n",
    "    end    \n",
    "    @assert false \"error: took more than 10 moves to find the solution\"\n",
    "end;"
   ]
  },
  {
   "cell_type": "markdown",
   "id": "baa9f4cc-d520-411a-a500-e7068f70ab7d",
   "metadata": {},
   "source": [
    "# Create histograms"
   ]
  },
  {
   "cell_type": "markdown",
   "id": "1051d895",
   "metadata": {},
   "source": [
    "## Helper functions for computation and plotting"
   ]
  },
  {
   "cell_type": "code",
   "execution_count": 9,
   "id": "7cdec3e9",
   "metadata": {},
   "outputs": [],
   "source": [
    "function get_num_turns(\n",
    "    candidate_pool::Vector{String},\n",
    "    solution_pool::Vector{String};\n",
    "    heuristic::Heuristic = PRIORITIZE_ENTROPY,\n",
    "    hard_mode::Bool = false,\n",
    "    first_word::String = hard_mode ? find_move(candidate_pool, solution_pool, heuristic = heuristic) : find_move(solution_pool, solution_pool, heuristic = heuristic)\n",
    ")::Vector{Int64}\n",
    "    @time begin\n",
    "        println(\"First guess: $(first_word)\")\n",
    "        @showprogress map(\n",
    "            w -> apply_strategy(w, first_word, candidate_pool, solution_pool, heuristic = heuristic, hard_mode = hard_mode), \n",
    "            solution_pool\n",
    "        )\n",
    "    end\n",
    "end;"
   ]
  },
  {
   "cell_type": "code",
   "execution_count": 33,
   "id": "63f354be",
   "metadata": {},
   "outputs": [],
   "source": [
    "function plot_num_turns(turns::Vector{Int64}; title_text::String, saved_filename::String)\n",
    "    n = maximum(turns)\n",
    "    msol = hist(turns, bins=1:n+1, density=true, align=\"left\", zorder=3);\n",
    "    xlabel(\"number of guesses required\")\n",
    "    ylabel(\"frequency\")\n",
    "    title(title_text)\n",
    "    for i = 1:n\n",
    "        text(i,0.15,floor(Int,msol[1][i]*length(solutions)), horizontalalignment=\"center\")\n",
    "    end\n",
    "    grid(zorder=0)\n",
    "    \n",
    "    if !isdir(\"figures\")\n",
    "        mkdir(\"figures\")\n",
    "    end \n",
    "    savefig(\"figures/\" * saved_filename)\n",
    "end;"
   ]
  },
  {
   "cell_type": "markdown",
   "id": "0171a253",
   "metadata": {},
   "source": [
    "### Using only solution words as guesses, prioritizing entropy"
   ]
  },
  {
   "cell_type": "code",
   "execution_count": 22,
   "id": "4ba0995d",
   "metadata": {},
   "outputs": [
    {
     "name": "stderr",
     "output_type": "stream",
     "text": [
      "\u001b[32mProgress: 100%|█████████████████████████████████████████| Time: 0:03:33\u001b[39m\n"
     ]
    },
    {
     "name": "stdout",
     "output_type": "stream",
     "text": [
      "First guess: raise\n",
      "214.017637 seconds (763.24 M allocations: 32.063 GiB, 6.14% gc time, 0.64% compilation time)\n"
     ]
    }
   ],
   "source": [
    "turns_sol_ent = get_num_turns(solutions, solutions, heuristic=PRIORITIZE_ENTROPY);"
   ]
  },
  {
   "cell_type": "code",
   "execution_count": 23,
   "id": "6dabd11d",
   "metadata": {},
   "outputs": [
    {
     "data": {
      "image/png": "[encoded data removed]",
      "text/plain": [
       "Figure(PyObject <Figure size 640x480 with 1 Axes>)"
      ]
     },
     "metadata": {},
     "output_type": "display_data"
    },
    {
     "name": "stderr",
     "output_type": "stream",
     "text": [
      "┌ Warning: `vendor()` is deprecated, use `BLAS.get_config()` and inspect the output instead\n",
      "│   caller = npyinitialize() at numpy.jl:67\n",
      "└ @ PyCall C:\\Users\\laure\\.julia\\packages\\PyCall\\L0fLP\\src\\numpy.jl:67\n"
     ]
    }
   ],
   "source": [
    "plot_num_turns(\n",
    "    turns_sol_ent,\n",
    "    title_text=\"only guess from solutions list (max-entropy)\",\n",
    "    saved_filename=\"strat_using_solutions_only_prioritize_entropy.png\"\n",
    ")"
   ]
  },
  {
   "cell_type": "code",
   "execution_count": 24,
   "id": "5b8fb42d",
   "metadata": {
    "scrolled": true
   },
   "outputs": [
    {
     "data": {
      "text/plain": [
       "6-element Named Vector{Float64}\n",
       "Dim1  │ \n",
       "──────┼────────────\n",
       "1     │ 0.000431965\n",
       "2     │   0.0263499\n",
       "3     │    0.491577\n",
       "4     │    0.441469\n",
       "5     │   0.0393089\n",
       "6     │ 0.000863931"
      ]
     },
     "execution_count": 24,
     "metadata": {},
     "output_type": "execute_result"
    }
   ],
   "source": [
    "prop(freqtable(turns_sol_ent))"
   ]
  },
  {
   "cell_type": "code",
   "execution_count": 25,
   "id": "990933c5",
   "metadata": {},
   "outputs": [
    {
     "data": {
      "text/plain": [
       "3.495464362850972"
      ]
     },
     "execution_count": 25,
     "metadata": {},
     "output_type": "execute_result"
    }
   ],
   "source": [
    "Statistics.mean(turns_sol_ent)"
   ]
  },
  {
   "cell_type": "markdown",
   "id": "96b5b2ea-71d6-4d5a-9fc6-9f8b035dec29",
   "metadata": {},
   "source": [
    "### Using only solution words as guesses, prioritizing maxsize"
   ]
  },
  {
   "cell_type": "code",
   "execution_count": 26,
   "id": "d2b0d588-ab77-4100-b5f5-eb573faa0f9c",
   "metadata": {},
   "outputs": [
    {
     "name": "stderr",
     "output_type": "stream",
     "text": [
      "\u001b[32mProgress: 100%|█████████████████████████████████████████| Time: 0:03:23\u001b[39m\n"
     ]
    },
    {
     "name": "stdout",
     "output_type": "stream",
     "text": [
      "First guess: raise\n",
      "203.292397 seconds (764.58 M allocations: 32.190 GiB, 2.38% gc time, 0.00% compilation time)\n"
     ]
    }
   ],
   "source": [
    "turns_sol = get_num_turns(solutions, solutions, heuristic=PRIORITIZE_MAX_GROUP_SIZE);"
   ]
  },
  {
   "cell_type": "code",
   "execution_count": 39,
   "id": "373bc571-8a31-4f17-b054-f4115a339170",
   "metadata": {},
   "outputs": [
    {
     "data": {
      "image/png": "[encoded data removed]",
      "text/plain": [
       "Figure(PyObject <Figure size 640x480 with 1 Axes>)"
      ]
     },
     "metadata": {},
     "output_type": "display_data"
    }
   ],
   "source": [
    "plot_num_turns(\n",
    "    turns_sol,\n",
    "    title_text=\"only guess from solutions list (max-size)\",\n",
    "    saved_filename=\"strat_using_solutions_only.png\"\n",
    ")"
   ]
  },
  {
   "cell_type": "code",
   "execution_count": 28,
   "id": "818df950-6d4c-4abb-84a5-06f38c23ddcf",
   "metadata": {},
   "outputs": [
    {
     "data": {
      "text/plain": [
       "5-element Named Vector{Float64}\n",
       "Dim1  │ \n",
       "──────┼────────────\n",
       "1     │ 0.000431965\n",
       "2     │   0.0315335\n",
       "3     │     0.42851\n",
       "4     │    0.495896\n",
       "5     │   0.0436285"
      ]
     },
     "execution_count": 28,
     "metadata": {},
     "output_type": "execute_result"
    }
   ],
   "source": [
    "prop(freqtable(turns_sol))"
   ]
  },
  {
   "cell_type": "code",
   "execution_count": 29,
   "id": "5cab5e07",
   "metadata": {},
   "outputs": [
    {
     "data": {
      "text/plain": [
       "3.550755939524838"
      ]
     },
     "execution_count": 29,
     "metadata": {},
     "output_type": "execute_result"
    }
   ],
   "source": [
    "Statistics.mean(turns_sol)"
   ]
  },
  {
   "cell_type": "markdown",
   "id": "b231d193",
   "metadata": {},
   "source": [
    "### Using all possible words as guesses, prioritizing entropy"
   ]
  },
  {
   "cell_type": "code",
   "execution_count": 30,
   "id": "2d06aca5",
   "metadata": {},
   "outputs": [
    {
     "name": "stderr",
     "output_type": "stream",
     "text": [
      "\u001b[32mProgress: 100%|█████████████████████████████████████████| Time: 0:16:14\u001b[39m\n"
     ]
    },
    {
     "name": "stdout",
     "output_type": "stream",
     "text": [
      "First guess: soare\n",
      "974.408080 seconds (4.21 G allocations: 174.095 GiB, 2.64% gc time)\n"
     ]
    }
   ],
   "source": [
    "turns_all_ent = get_num_turns(largelist, solutions, heuristic=PRIORITIZE_ENTROPY);"
   ]
  },
  {
   "cell_type": "code",
   "execution_count": 31,
   "id": "13b9ad63",
   "metadata": {},
   "outputs": [
    {
     "data": {
      "image/png": "[encoded data removed]",
      "text/plain": [
       "Figure(PyObject <Figure size 640x480 with 1 Axes>)"
      ]
     },
     "metadata": {},
     "output_type": "display_data"
    }
   ],
   "source": [
    "plot_num_turns(\n",
    "    turns_all_ent,\n",
    "    title_text=\"any guess allowed (max-entropy)\",\n",
    "    saved_filename=\"strat_using_any_guess_prioritize_entropy.png\"\n",
    ")"
   ]
  },
  {
   "cell_type": "code",
   "execution_count": 32,
   "id": "9ae60e1d",
   "metadata": {},
   "outputs": [
    {
     "data": {
      "text/plain": [
       "5-element Named Vector{Float64}\n",
       "Dim1  │ \n",
       "──────┼────────────\n",
       "2     │   0.0190065\n",
       "3     │    0.526566\n",
       "4     │    0.427646\n",
       "5     │   0.0263499\n",
       "6     │ 0.000431965"
      ]
     },
     "execution_count": 32,
     "metadata": {},
     "output_type": "execute_result"
    }
   ],
   "source": [
    "prop(freqtable(turns_all_ent))"
   ]
  },
  {
   "cell_type": "code",
   "execution_count": 33,
   "id": "b79458fa",
   "metadata": {},
   "outputs": [
    {
     "data": {
      "text/plain": [
       "3.462634989200864"
      ]
     },
     "execution_count": 33,
     "metadata": {},
     "output_type": "execute_result"
    }
   ],
   "source": [
    "Statistics.mean(turns_all_ent)"
   ]
  },
  {
   "cell_type": "markdown",
   "id": "0d921166-98f0-46b0-94aa-032d123148c3",
   "metadata": {},
   "source": [
    "### Using all possible words as guesses, prioritizing maxsize"
   ]
  },
  {
   "cell_type": "code",
   "execution_count": 34,
   "id": "e26f0150",
   "metadata": {},
   "outputs": [
    {
     "name": "stderr",
     "output_type": "stream",
     "text": [
      "\u001b[32mProgress: 100%|█████████████████████████████████████████| Time: 0:15:52\u001b[39m\n"
     ]
    },
    {
     "name": "stdout",
     "output_type": "stream",
     "text": [
      "First guess: raise\n",
      "953.888489 seconds (4.22 G allocations: 176.006 GiB, 2.72% gc time)\n"
     ]
    }
   ],
   "source": [
    "turns_all = get_num_turns(largelist, solutions, heuristic=PRIORITIZE_MAX_GROUP_SIZE);"
   ]
  },
  {
   "cell_type": "code",
   "execution_count": 38,
   "id": "8bfa39da",
   "metadata": {},
   "outputs": [
    {
     "data": {
      "image/png": "[encoded data removed]",
      "text/plain": [
       "Figure(PyObject <Figure size 640x480 with 1 Axes>)"
      ]
     },
     "metadata": {},
     "output_type": "display_data"
    }
   ],
   "source": [
    "plot_num_turns(\n",
    "    turns_all,\n",
    "    title_text=\"any guess allowed (max-size)\",\n",
    "    saved_filename=\"strat_using_any_guess.png\"\n",
    ")"
   ]
  },
  {
   "cell_type": "code",
   "execution_count": 36,
   "id": "75b761f7",
   "metadata": {},
   "outputs": [
    {
     "data": {
      "text/plain": [
       "5-element Named Vector{Float64}\n",
       "Dim1  │ \n",
       "──────┼────────────\n",
       "1     │ 0.000431965\n",
       "2     │   0.0289417\n",
       "3     │    0.451404\n",
       "4     │    0.487689\n",
       "5     │   0.0315335"
      ]
     },
     "execution_count": 36,
     "metadata": {},
     "output_type": "execute_result"
    }
   ],
   "source": [
    "prop(freqtable(turns_all))"
   ]
  },
  {
   "cell_type": "code",
   "execution_count": 37,
   "id": "7c455bc1",
   "metadata": {},
   "outputs": [
    {
     "data": {
      "text/plain": [
       "3.5209503239740823"
      ]
     },
     "execution_count": 37,
     "metadata": {},
     "output_type": "execute_result"
    }
   ],
   "source": [
    "Statistics.mean(turns_all)"
   ]
  },
  {
   "cell_type": "markdown",
   "id": "26513cf8-a27b-48ce-8ccd-80a1be444a52",
   "metadata": {},
   "source": [
    "### Hard mode, prioritizing entropy"
   ]
  },
  {
   "cell_type": "code",
   "execution_count": 11,
   "id": "7cb6ef4d-4227-46b2-9f7b-fa9c11601707",
   "metadata": {},
   "outputs": [
    {
     "name": "stderr",
     "output_type": "stream",
     "text": [
      "\u001b[32mProgress: 100%|█████████████████████████████████████████| Time: 0:00:13\u001b[39m\n"
     ]
    },
    {
     "name": "stdout",
     "output_type": "stream",
     "text": [
      "First guess: raise\n",
      " 13.557069 seconds (44.23 M allocations: 1.529 GiB, 24.12% gc time, 9.43% compilation time)\n"
     ]
    }
   ],
   "source": [
    "turns_hard_ent = get_num_turns(solutions, solutions, heuristic=PRIORITIZE_ENTROPY, hard_mode = true);"
   ]
  },
  {
   "cell_type": "code",
   "execution_count": 13,
   "id": "0ea0a20e-fdfe-4e59-b841-6a617a5c1d35",
   "metadata": {},
   "outputs": [
    {
     "data": {
      "image/png": "[encoded data removed]",
      "text/plain": [
       "Figure(PyObject <Figure size 640x480 with 1 Axes>)"
      ]
     },
     "metadata": {},
     "output_type": "display_data"
    }
   ],
   "source": [
    "plot_num_turns(\n",
    "    turns_hard_ent,\n",
    "    title_text=\"hard mode (max-entropy)\",\n",
    "    saved_filename=\"strat_using_hard_mode_prioritize_entropy.png\"\n",
    ")"
   ]
  },
  {
   "cell_type": "code",
   "execution_count": 14,
   "id": "04f21f73-f3f1-4a72-a955-77fc4f28d190",
   "metadata": {
    "scrolled": true
   },
   "outputs": [
    {
     "data": {
      "text/plain": [
       "8-element Named Vector{Float64}\n",
       "Dim1  │ \n",
       "──────┼────────────\n",
       "1     │ 0.000431965\n",
       "2     │   0.0565875\n",
       "3     │    0.431533\n",
       "4     │    0.396544\n",
       "5     │   0.0894168\n",
       "6     │   0.0203024\n",
       "7     │  0.00431965\n",
       "8     │ 0.000863931"
      ]
     },
     "execution_count": 14,
     "metadata": {},
     "output_type": "execute_result"
    }
   ],
   "source": [
    "prop(freqtable(turns_hard_ent))"
   ]
  },
  {
   "cell_type": "code",
   "execution_count": 15,
   "id": "7125e37d-dc14-4adc-acb9-37de777b1efa",
   "metadata": {},
   "outputs": [
    {
     "data": {
      "text/plain": [
       "3.600431965442765"
      ]
     },
     "execution_count": 15,
     "metadata": {},
     "output_type": "execute_result"
    }
   ],
   "source": [
    "Statistics.mean(turns_hard_ent)"
   ]
  },
  {
   "cell_type": "markdown",
   "id": "75e09a7f-13d7-4925-95f7-b5775df37b3e",
   "metadata": {},
   "source": [
    "### Hard mode, prioritizing maxsize"
   ]
  },
  {
   "cell_type": "code",
   "execution_count": 20,
   "id": "bf7e69cb-0e57-41f5-8aef-dfe1221708cb",
   "metadata": {},
   "outputs": [
    {
     "name": "stderr",
     "output_type": "stream",
     "text": [
      "\u001b[32mProgress: 100%|█████████████████████████████████████████| Time: 0:00:09\u001b[39m\n"
     ]
    },
    {
     "name": "stdout",
     "output_type": "stream",
     "text": [
      "First guess: raise\n",
      "  9.311809 seconds (39.60 M allocations: 1.290 GiB, 3.59% gc time, 0.03% compilation time)\n"
     ]
    }
   ],
   "source": [
    "turns_hard = get_num_turns(solutions, solutions, heuristic=PRIORITIZE_MAX_GROUP_SIZE, hard_mode = true);"
   ]
  },
  {
   "cell_type": "code",
   "execution_count": 34,
   "id": "47d227ae-5bd4-4ac6-9752-57fb364a5d92",
   "metadata": {},
   "outputs": [
    {
     "data": {
      "image/png": "[encoded data removed]",
      "text/plain": [
       "Figure(PyObject <Figure size 640x480 with 1 Axes>)"
      ]
     },
     "metadata": {},
     "output_type": "display_data"
    }
   ],
   "source": [
    "plot_num_turns(\n",
    "    turns_hard,\n",
    "    title_text=\"hard mode (max-size)\",\n",
    "    saved_filename=\"strat_using_hard_mode.png\"\n",
    ")"
   ]
  },
  {
   "cell_type": "code",
   "execution_count": 22,
   "id": "fe071c23-4185-4593-8264-27e1cc44c007",
   "metadata": {
    "scrolled": true
   },
   "outputs": [
    {
     "data": {
      "text/plain": [
       "8-element Named Vector{Float64}\n",
       "Dim1  │ \n",
       "──────┼────────────\n",
       "1     │ 0.000431965\n",
       "2     │   0.0565875\n",
       "3     │    0.396544\n",
       "4     │    0.424622\n",
       "5     │   0.0958963\n",
       "6     │   0.0203024\n",
       "7     │  0.00431965\n",
       "8     │   0.0012959"
      ]
     },
     "execution_count": 22,
     "metadata": {},
     "output_type": "execute_result"
    }
   ],
   "source": [
    "prop(freqtable(turns_hard))"
   ]
  },
  {
   "cell_type": "code",
   "execution_count": 23,
   "id": "32e2b453-7465-491f-9c3f-c68052176b80",
   "metadata": {},
   "outputs": [
    {
     "data": {
      "text/plain": [
       "3.6436285097192225"
      ]
     },
     "execution_count": 23,
     "metadata": {},
     "output_type": "execute_result"
    }
   ],
   "source": [
    "Statistics.mean(turns_hard)"
   ]
  },
  {
   "cell_type": "code",
   "execution_count": null,
   "id": "f3de512c-9419-4b49-aeb4-d0d9647567dd",
   "metadata": {},
   "outputs": [],
   "source": []
  }
 ],
 "metadata": {
  "kernelspec": {
   "display_name": "Julia 1.7.1",
   "language": "julia",
   "name": "julia-1.7"
  },
  "language_info": {
   "file_extension": ".jl",
   "mimetype": "application/julia",
   "name": "julia",
   "version": "1.7.1"
  }
 },
 "nbformat": 4,
 "nbformat_minor": 5
}
